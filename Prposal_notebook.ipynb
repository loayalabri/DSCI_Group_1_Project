{
 "cells": [
  {
   "cell_type": "markdown",
   "id": "f1a19242-30cd-4a3a-ad7c-6f4e1ad0c62d",
   "metadata": {
    "tags": []
   },
   "source": [
    "# Group 1 Project Proposal\n",
    "Members:\\\n",
    " Loay Al-Abri,\n",
    " Daniel Pliego,\n",
    " John Jiang,\n",
    " Justin Lee.\n"
   ]
  },
  {
   "cell_type": "code",
   "execution_count": 1,
   "id": "7fa8c0e2-59a5-4ad4-99e0-4f8c3a045f6d",
   "metadata": {},
   "outputs": [
    {
     "name": "stderr",
     "output_type": "stream",
     "text": [
      "── \u001b[1mAttaching packages\u001b[22m ─────────────────────────────────────── tidyverse 1.3.1 ──\n",
      "\n",
      "\u001b[32m✔\u001b[39m \u001b[34mggplot2\u001b[39m 3.3.6     \u001b[32m✔\u001b[39m \u001b[34mpurrr  \u001b[39m 0.3.4\n",
      "\u001b[32m✔\u001b[39m \u001b[34mtibble \u001b[39m 3.1.7     \u001b[32m✔\u001b[39m \u001b[34mdplyr  \u001b[39m 1.0.9\n",
      "\u001b[32m✔\u001b[39m \u001b[34mtidyr  \u001b[39m 1.2.0     \u001b[32m✔\u001b[39m \u001b[34mstringr\u001b[39m 1.4.0\n",
      "\u001b[32m✔\u001b[39m \u001b[34mreadr  \u001b[39m 2.1.2     \u001b[32m✔\u001b[39m \u001b[34mforcats\u001b[39m 0.5.1\n",
      "\n",
      "── \u001b[1mConflicts\u001b[22m ────────────────────────────────────────── tidyverse_conflicts() ──\n",
      "\u001b[31m✖\u001b[39m \u001b[34mdplyr\u001b[39m::\u001b[32mfilter()\u001b[39m masks \u001b[34mstats\u001b[39m::filter()\n",
      "\u001b[31m✖\u001b[39m \u001b[34mdplyr\u001b[39m::\u001b[32mlag()\u001b[39m    masks \u001b[34mstats\u001b[39m::lag()\n",
      "\n",
      "── \u001b[1mAttaching packages\u001b[22m ────────────────────────────────────── tidymodels 1.0.0 ──\n",
      "\n",
      "\u001b[32m✔\u001b[39m \u001b[34mbroom       \u001b[39m 1.0.0     \u001b[32m✔\u001b[39m \u001b[34mrsample     \u001b[39m 1.0.0\n",
      "\u001b[32m✔\u001b[39m \u001b[34mdials       \u001b[39m 1.0.0     \u001b[32m✔\u001b[39m \u001b[34mtune        \u001b[39m 1.0.0\n",
      "\u001b[32m✔\u001b[39m \u001b[34minfer       \u001b[39m 1.0.2     \u001b[32m✔\u001b[39m \u001b[34mworkflows   \u001b[39m 1.0.0\n",
      "\u001b[32m✔\u001b[39m \u001b[34mmodeldata   \u001b[39m 1.0.0     \u001b[32m✔\u001b[39m \u001b[34mworkflowsets\u001b[39m 1.0.0\n",
      "\u001b[32m✔\u001b[39m \u001b[34mparsnip     \u001b[39m 1.0.0     \u001b[32m✔\u001b[39m \u001b[34myardstick   \u001b[39m 1.0.0\n",
      "\u001b[32m✔\u001b[39m \u001b[34mrecipes     \u001b[39m 1.0.1     \n",
      "\n",
      "── \u001b[1mConflicts\u001b[22m ───────────────────────────────────────── tidymodels_conflicts() ──\n",
      "\u001b[31m✖\u001b[39m \u001b[34mscales\u001b[39m::\u001b[32mdiscard()\u001b[39m masks \u001b[34mpurrr\u001b[39m::discard()\n",
      "\u001b[31m✖\u001b[39m \u001b[34mdplyr\u001b[39m::\u001b[32mfilter()\u001b[39m   masks \u001b[34mstats\u001b[39m::filter()\n",
      "\u001b[31m✖\u001b[39m \u001b[34mrecipes\u001b[39m::\u001b[32mfixed()\u001b[39m  masks \u001b[34mstringr\u001b[39m::fixed()\n",
      "\u001b[31m✖\u001b[39m \u001b[34mdplyr\u001b[39m::\u001b[32mlag()\u001b[39m      masks \u001b[34mstats\u001b[39m::lag()\n",
      "\u001b[31m✖\u001b[39m \u001b[34myardstick\u001b[39m::\u001b[32mspec()\u001b[39m masks \u001b[34mreadr\u001b[39m::spec()\n",
      "\u001b[31m✖\u001b[39m \u001b[34mrecipes\u001b[39m::\u001b[32mstep()\u001b[39m   masks \u001b[34mstats\u001b[39m::step()\n",
      "\u001b[34m•\u001b[39m Use suppressPackageStartupMessages() to eliminate package startup messages\n",
      "\n"
     ]
    }
   ],
   "source": [
    "#Import the required libraries\n",
    "library(tidyverse)\n",
    "library(repr)\n",
    "library(tidymodels)\n"
   ]
  },
  {
   "cell_type": "markdown",
   "id": "2346ad8f-df64-4b28-b3ea-f5d028f7e29f",
   "metadata": {
    "tags": []
   },
   "source": [
    "### Preliminary exploratory data analysis:\n",
    "The Heart disease dataset is a dataset from UCI Machine Learning Repository. UCI is an educational database and after reviwing their policies, we are allowed to scrap the data. We will read the data into $R$ by passing the data url to `read_csv` function. After that, we will rename the columns and clean and tidy the data. "
   ]
  },
  {
   "cell_type": "code",
   "execution_count": 4,
   "id": "098b0589-0248-41a2-9165-883176eba6a1",
   "metadata": {},
   "outputs": [
    {
     "name": "stderr",
     "output_type": "stream",
     "text": [
      "\u001b[1mRows: \u001b[22m\u001b[34m123\u001b[39m \u001b[1mColumns: \u001b[22m\u001b[34m14\u001b[39m\n",
      "\u001b[36m──\u001b[39m \u001b[1mColumn specification\u001b[22m \u001b[36m────────────────────────────────────────────────────────\u001b[39m\n",
      "\u001b[1mDelimiter:\u001b[22m \",\"\n",
      "\u001b[31mchr\u001b[39m (9): trestbps, fbs, restceg, thalach, exang, oldpeak, slope, ca, thal\n",
      "\u001b[32mdbl\u001b[39m (5): age, sex, cp, chol, heart_disease\n",
      "\n",
      "\u001b[36mℹ\u001b[39m Use `spec()` to retrieve the full column specification for this data.\n",
      "\u001b[36mℹ\u001b[39m Specify the column types or set `show_col_types = FALSE` to quiet this message.\n",
      "Warning message in mask$eval_all_mutate(quo):\n",
      "“NAs introduced by coercion”\n",
      "Warning message in mask$eval_all_mutate(quo):\n",
      "“NAs introduced by coercion”\n",
      "Warning message in mask$eval_all_mutate(quo):\n",
      "“NAs introduced by coercion”\n",
      "Warning message in mask$eval_all_mutate(quo):\n",
      "“NAs introduced by coercion”\n",
      "Warning message in mask$eval_all_mutate(quo):\n",
      "“NAs introduced by coercion”\n",
      "Warning message in mask$eval_all_mutate(quo):\n",
      "“NAs introduced by coercion”\n",
      "Warning message in mask$eval_all_mutate(quo):\n",
      "“NAs introduced by coercion”\n",
      "Warning message in mask$eval_all_mutate(quo):\n",
      "“NAs introduced by coercion”\n",
      "Warning message in mask$eval_all_mutate(quo):\n",
      "“NAs introduced by coercion”\n"
     ]
    },
    {
     "data": {
      "text/html": [
       "<table class=\"dataframe\">\n",
       "<caption>A tibble: 6 × 14</caption>\n",
       "<thead>\n",
       "\t<tr><th scope=col>age</th><th scope=col>sex</th><th scope=col>cp</th><th scope=col>trestbps</th><th scope=col>chol</th><th scope=col>fbs</th><th scope=col>restceg</th><th scope=col>thalach</th><th scope=col>exang</th><th scope=col>oldpeak</th><th scope=col>slope</th><th scope=col>ca</th><th scope=col>thal</th><th scope=col>heart_disease</th></tr>\n",
       "\t<tr><th scope=col>&lt;dbl&gt;</th><th scope=col>&lt;dbl&gt;</th><th scope=col>&lt;dbl&gt;</th><th scope=col>&lt;dbl&gt;</th><th scope=col>&lt;dbl&gt;</th><th scope=col>&lt;dbl&gt;</th><th scope=col>&lt;dbl&gt;</th><th scope=col>&lt;dbl&gt;</th><th scope=col>&lt;dbl&gt;</th><th scope=col>&lt;dbl&gt;</th><th scope=col>&lt;dbl&gt;</th><th scope=col>&lt;dbl&gt;</th><th scope=col>&lt;dbl&gt;</th><th scope=col>&lt;fct&gt;</th></tr>\n",
       "</thead>\n",
       "<tbody>\n",
       "\t<tr><td>32</td><td>1</td><td>1</td><td> 95</td><td>0</td><td>NA</td><td> 0</td><td>127</td><td>0</td><td>0.7</td><td> 1</td><td>NA</td><td>NA</td><td>True</td></tr>\n",
       "\t<tr><td>34</td><td>1</td><td>4</td><td>115</td><td>0</td><td>NA</td><td>NA</td><td>154</td><td>0</td><td>0.2</td><td> 1</td><td>NA</td><td>NA</td><td>True</td></tr>\n",
       "\t<tr><td>35</td><td>1</td><td>4</td><td> NA</td><td>0</td><td>NA</td><td> 0</td><td>130</td><td>1</td><td> NA</td><td>NA</td><td>NA</td><td> 7</td><td>True</td></tr>\n",
       "\t<tr><td>36</td><td>1</td><td>4</td><td>110</td><td>0</td><td>NA</td><td> 0</td><td>125</td><td>1</td><td>1.0</td><td> 2</td><td>NA</td><td> 6</td><td>True</td></tr>\n",
       "\t<tr><td>38</td><td>0</td><td>4</td><td>105</td><td>0</td><td>NA</td><td> 0</td><td>166</td><td>0</td><td>2.8</td><td> 1</td><td>NA</td><td>NA</td><td>True</td></tr>\n",
       "\t<tr><td>38</td><td>0</td><td>4</td><td>110</td><td>0</td><td> 0</td><td> 0</td><td>156</td><td>0</td><td>0.0</td><td> 2</td><td>NA</td><td> 3</td><td>True</td></tr>\n",
       "</tbody>\n",
       "</table>\n"
      ],
      "text/latex": [
       "A tibble: 6 × 14\n",
       "\\begin{tabular}{llllllllllllll}\n",
       " age & sex & cp & trestbps & chol & fbs & restceg & thalach & exang & oldpeak & slope & ca & thal & heart\\_disease\\\\\n",
       " <dbl> & <dbl> & <dbl> & <dbl> & <dbl> & <dbl> & <dbl> & <dbl> & <dbl> & <dbl> & <dbl> & <dbl> & <dbl> & <fct>\\\\\n",
       "\\hline\n",
       "\t 32 & 1 & 1 &  95 & 0 & NA &  0 & 127 & 0 & 0.7 &  1 & NA & NA & True\\\\\n",
       "\t 34 & 1 & 4 & 115 & 0 & NA & NA & 154 & 0 & 0.2 &  1 & NA & NA & True\\\\\n",
       "\t 35 & 1 & 4 &  NA & 0 & NA &  0 & 130 & 1 &  NA & NA & NA &  7 & True\\\\\n",
       "\t 36 & 1 & 4 & 110 & 0 & NA &  0 & 125 & 1 & 1.0 &  2 & NA &  6 & True\\\\\n",
       "\t 38 & 0 & 4 & 105 & 0 & NA &  0 & 166 & 0 & 2.8 &  1 & NA & NA & True\\\\\n",
       "\t 38 & 0 & 4 & 110 & 0 &  0 &  0 & 156 & 0 & 0.0 &  2 & NA &  3 & True\\\\\n",
       "\\end{tabular}\n"
      ],
      "text/markdown": [
       "\n",
       "A tibble: 6 × 14\n",
       "\n",
       "| age &lt;dbl&gt; | sex &lt;dbl&gt; | cp &lt;dbl&gt; | trestbps &lt;dbl&gt; | chol &lt;dbl&gt; | fbs &lt;dbl&gt; | restceg &lt;dbl&gt; | thalach &lt;dbl&gt; | exang &lt;dbl&gt; | oldpeak &lt;dbl&gt; | slope &lt;dbl&gt; | ca &lt;dbl&gt; | thal &lt;dbl&gt; | heart_disease &lt;fct&gt; |\n",
       "|---|---|---|---|---|---|---|---|---|---|---|---|---|---|\n",
       "| 32 | 1 | 1 |  95 | 0 | NA |  0 | 127 | 0 | 0.7 |  1 | NA | NA | True |\n",
       "| 34 | 1 | 4 | 115 | 0 | NA | NA | 154 | 0 | 0.2 |  1 | NA | NA | True |\n",
       "| 35 | 1 | 4 |  NA | 0 | NA |  0 | 130 | 1 |  NA | NA | NA |  7 | True |\n",
       "| 36 | 1 | 4 | 110 | 0 | NA |  0 | 125 | 1 | 1.0 |  2 | NA |  6 | True |\n",
       "| 38 | 0 | 4 | 105 | 0 | NA |  0 | 166 | 0 | 2.8 |  1 | NA | NA | True |\n",
       "| 38 | 0 | 4 | 110 | 0 |  0 |  0 | 156 | 0 | 0.0 |  2 | NA |  3 | True |\n",
       "\n"
      ],
      "text/plain": [
       "  age sex cp trestbps chol fbs restceg thalach exang oldpeak slope ca thal\n",
       "1 32  1   1   95      0    NA   0      127     0     0.7      1    NA NA  \n",
       "2 34  1   4  115      0    NA  NA      154     0     0.2      1    NA NA  \n",
       "3 35  1   4   NA      0    NA   0      130     1      NA     NA    NA  7  \n",
       "4 36  1   4  110      0    NA   0      125     1     1.0      2    NA  6  \n",
       "5 38  0   4  105      0    NA   0      166     0     2.8      1    NA NA  \n",
       "6 38  0   4  110      0     0   0      156     0     0.0      2    NA  3  \n",
       "  heart_disease\n",
       "1 True         \n",
       "2 True         \n",
       "3 True         \n",
       "4 True         \n",
       "5 True         \n",
       "6 True         "
      ]
     },
     "metadata": {},
     "output_type": "display_data"
    }
   ],
   "source": [
    "#Reading the data and renaming the columns.\n",
    "url <- \"https://archive.ics.uci.edu/ml/machine-learning-databases/heart-disease/processed.switzerland.data\"\n",
    "colmns_names <- c(\"age\", \"sex\", \"cp\", \"trestbps\", \"chol\", \"fbs\", \"restceg\", \"thalach\",\n",
    "               \"exang\", \"oldpeak\", \"slope\", \"ca\", \"thal\", \"heart_disease\")\n",
    "\n",
    "heart_data <- read_csv(url, col_names = colmns_names)|>\n",
    "    #Change the data type in the columns to the necessary data type for our classification\n",
    "    mutate(across(c(trestbps, fbs, restceg, thalach, exang, oldpeak, slope, ca, thal),\n",
    "                as.numeric),\n",
    "          heart_disease = ifelse(heart_disease == \"1\" | heart_disease == \"2\" | \n",
    "                                 heart_disease == \"3\" | heart_disease == \"4\", \"True\", heart_disease),\n",
    "          heart_disease = ifelse(heart_disease == \"0\", \"False\", heart_disease),\n",
    "          heart_disease = as.factor(heart_disease))\n",
    "\n",
    "head(heart_data)\n"
   ]
  },
  {
   "cell_type": "code",
   "execution_count": 5,
   "id": "bf3214cf-eea9-48a8-9dbc-6b759bbbc221",
   "metadata": {},
   "outputs": [],
   "source": [
    "set.seed(2023) #set the seed for reproducibility\n",
    "\n",
    "# Split the data into trainig and testing data\n",
    "heart_split <- initial_split(heart_data, prop = 0.75, strata = heart_disease )\n",
    "heart_train <- training(heart_split)\n",
    "heart_test <- testing(heart_split)"
   ]
  },
  {
   "cell_type": "markdown",
   "id": "f45cd010-34a8-43b5-9423-2b0c30234348",
   "metadata": {},
   "source": [
    "##### Now, we create a table to observe any important information that we can get about the data such as: missing values and average values for the predictors."
   ]
  },
  {
   "cell_type": "code",
   "execution_count": 6,
   "id": "8d445fcc-9cc9-4b99-b5ce-da64ba2e3d0f",
   "metadata": {},
   "outputs": [
    {
     "data": {
      "text/html": [
       "<table class=\"dataframe\">\n",
       "<caption>A tibble: 2 × 7</caption>\n",
       "<thead>\n",
       "\t<tr><th scope=col>heart_disease</th><th scope=col>num_obs</th><th scope=col>mean_age</th><th scope=col>mean_trestbps</th><th scope=col>mean_chol</th><th scope=col>missing_vals</th><th scope=col>missing_vals_in_predictors</th></tr>\n",
       "\t<tr><th scope=col>&lt;fct&gt;</th><th scope=col>&lt;int&gt;</th><th scope=col>&lt;dbl&gt;</th><th scope=col>&lt;dbl&gt;</th><th scope=col>&lt;dbl&gt;</th><th scope=col>&lt;int&gt;</th><th scope=col>&lt;int&gt;</th></tr>\n",
       "</thead>\n",
       "<tbody>\n",
       "\t<tr><td>False</td><td> 6</td><td>55.66667</td><td>123.3333</td><td>0</td><td>273</td><td>1</td></tr>\n",
       "\t<tr><td>True </td><td>86</td><td>55.72093</td><td>131.0000</td><td>0</td><td>273</td><td>1</td></tr>\n",
       "</tbody>\n",
       "</table>\n"
      ],
      "text/latex": [
       "A tibble: 2 × 7\n",
       "\\begin{tabular}{lllllll}\n",
       " heart\\_disease & num\\_obs & mean\\_age & mean\\_trestbps & mean\\_chol & missing\\_vals & missing\\_vals\\_in\\_predictors\\\\\n",
       " <fct> & <int> & <dbl> & <dbl> & <dbl> & <int> & <int>\\\\\n",
       "\\hline\n",
       "\t False &  6 & 55.66667 & 123.3333 & 0 & 273 & 1\\\\\n",
       "\t True  & 86 & 55.72093 & 131.0000 & 0 & 273 & 1\\\\\n",
       "\\end{tabular}\n"
      ],
      "text/markdown": [
       "\n",
       "A tibble: 2 × 7\n",
       "\n",
       "| heart_disease &lt;fct&gt; | num_obs &lt;int&gt; | mean_age &lt;dbl&gt; | mean_trestbps &lt;dbl&gt; | mean_chol &lt;dbl&gt; | missing_vals &lt;int&gt; | missing_vals_in_predictors &lt;int&gt; |\n",
       "|---|---|---|---|---|---|---|\n",
       "| False |  6 | 55.66667 | 123.3333 | 0 | 273 | 1 |\n",
       "| True  | 86 | 55.72093 | 131.0000 | 0 | 273 | 1 |\n",
       "\n"
      ],
      "text/plain": [
       "  heart_disease num_obs mean_age mean_trestbps mean_chol missing_vals\n",
       "1 False          6      55.66667 123.3333      0         273         \n",
       "2 True          86      55.72093 131.0000      0         273         \n",
       "  missing_vals_in_predictors\n",
       "1 1                         \n",
       "2 1                         "
      ]
     },
     "metadata": {},
     "output_type": "display_data"
    }
   ],
   "source": [
    "heart_data_selected <- heart_train |> select(age, trestbps, chol, heart_disease)\n",
    "\n",
    "heart_summary <- heart_train |>\n",
    "    select(age, trestbps, chol, heart_disease)|>\n",
    "    group_by(heart_disease) |>\n",
    "    summarize(num_obs = n(),\n",
    "              mean_age = mean(age, na.rm = TRUE), \n",
    "              mean_trestbps = mean(trestbps, na.rm = TRUE),\n",
    "              mean_chol = mean(chol, na.rm = TRUE),\n",
    "              missing_vals = sum(is.na(heart_data)),\n",
    "              missing_vals_in_predictors = sum(is.na(heart_data_selected)))\n",
    "heart_summary"
   ]
  },
  {
   "cell_type": "code",
   "execution_count": null,
   "id": "9f008ece-32fe-4ae7-bca1-3aa85b1618eb",
   "metadata": {},
   "outputs": [],
   "source": []
  }
 ],
 "metadata": {
  "kernelspec": {
   "display_name": "R",
   "language": "R",
   "name": "ir"
  },
  "language_info": {
   "codemirror_mode": "r",
   "file_extension": ".r",
   "mimetype": "text/x-r-source",
   "name": "R",
   "pygments_lexer": "r",
   "version": "4.1.3"
  }
 },
 "nbformat": 4,
 "nbformat_minor": 5
}
