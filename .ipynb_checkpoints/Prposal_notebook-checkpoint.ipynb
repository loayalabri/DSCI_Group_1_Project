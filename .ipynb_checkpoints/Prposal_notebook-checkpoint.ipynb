{
 "cells": [
  {
   "cell_type": "code",
   "execution_count": 2,
   "id": "7fa8c0e2-59a5-4ad4-99e0-4f8c3a045f6d",
   "metadata": {},
   "outputs": [
    {
     "name": "stderr",
     "output_type": "stream",
     "text": [
      "── \u001b[1mAttaching packages\u001b[22m ─────────────────────────────────────── tidyverse 1.3.1 ──\n",
      "\n",
      "\u001b[32m✔\u001b[39m \u001b[34mggplot2\u001b[39m 3.3.6     \u001b[32m✔\u001b[39m \u001b[34mpurrr  \u001b[39m 0.3.4\n",
      "\u001b[32m✔\u001b[39m \u001b[34mtibble \u001b[39m 3.1.7     \u001b[32m✔\u001b[39m \u001b[34mdplyr  \u001b[39m 1.0.9\n",
      "\u001b[32m✔\u001b[39m \u001b[34mtidyr  \u001b[39m 1.2.0     \u001b[32m✔\u001b[39m \u001b[34mstringr\u001b[39m 1.4.0\n",
      "\u001b[32m✔\u001b[39m \u001b[34mreadr  \u001b[39m 2.1.2     \u001b[32m✔\u001b[39m \u001b[34mforcats\u001b[39m 0.5.1\n",
      "\n",
      "── \u001b[1mConflicts\u001b[22m ────────────────────────────────────────── tidyverse_conflicts() ──\n",
      "\u001b[31m✖\u001b[39m \u001b[34mdplyr\u001b[39m::\u001b[32mfilter()\u001b[39m masks \u001b[34mstats\u001b[39m::filter()\n",
      "\u001b[31m✖\u001b[39m \u001b[34mdplyr\u001b[39m::\u001b[32mlag()\u001b[39m    masks \u001b[34mstats\u001b[39m::lag()\n",
      "\n",
      "── \u001b[1mAttaching packages\u001b[22m ────────────────────────────────────── tidymodels 1.0.0 ──\n",
      "\n",
      "\u001b[32m✔\u001b[39m \u001b[34mbroom       \u001b[39m 1.0.0     \u001b[32m✔\u001b[39m \u001b[34mrsample     \u001b[39m 1.0.0\n",
      "\u001b[32m✔\u001b[39m \u001b[34mdials       \u001b[39m 1.0.0     \u001b[32m✔\u001b[39m \u001b[34mtune        \u001b[39m 1.0.0\n",
      "\u001b[32m✔\u001b[39m \u001b[34minfer       \u001b[39m 1.0.2     \u001b[32m✔\u001b[39m \u001b[34mworkflows   \u001b[39m 1.0.0\n",
      "\u001b[32m✔\u001b[39m \u001b[34mmodeldata   \u001b[39m 1.0.0     \u001b[32m✔\u001b[39m \u001b[34mworkflowsets\u001b[39m 1.0.0\n",
      "\u001b[32m✔\u001b[39m \u001b[34mparsnip     \u001b[39m 1.0.0     \u001b[32m✔\u001b[39m \u001b[34myardstick   \u001b[39m 1.0.0\n",
      "\u001b[32m✔\u001b[39m \u001b[34mrecipes     \u001b[39m 1.0.1     \n",
      "\n",
      "── \u001b[1mConflicts\u001b[22m ───────────────────────────────────────── tidymodels_conflicts() ──\n",
      "\u001b[31m✖\u001b[39m \u001b[34mscales\u001b[39m::\u001b[32mdiscard()\u001b[39m masks \u001b[34mpurrr\u001b[39m::discard()\n",
      "\u001b[31m✖\u001b[39m \u001b[34mdplyr\u001b[39m::\u001b[32mfilter()\u001b[39m   masks \u001b[34mstats\u001b[39m::filter()\n",
      "\u001b[31m✖\u001b[39m \u001b[34mrecipes\u001b[39m::\u001b[32mfixed()\u001b[39m  masks \u001b[34mstringr\u001b[39m::fixed()\n",
      "\u001b[31m✖\u001b[39m \u001b[34mdplyr\u001b[39m::\u001b[32mlag()\u001b[39m      masks \u001b[34mstats\u001b[39m::lag()\n",
      "\u001b[31m✖\u001b[39m \u001b[34myardstick\u001b[39m::\u001b[32mspec()\u001b[39m masks \u001b[34mreadr\u001b[39m::spec()\n",
      "\u001b[31m✖\u001b[39m \u001b[34mrecipes\u001b[39m::\u001b[32mstep()\u001b[39m   masks \u001b[34mstats\u001b[39m::step()\n",
      "\u001b[34m•\u001b[39m Dig deeper into tidy modeling with R at \u001b[32mhttps://www.tmwr.org\u001b[39m\n",
      "\n"
     ]
    }
   ],
   "source": [
    "library(tidyverse)\n",
    "library(repr)\n",
    "library(tidymodels)\n"
   ]
  },
  {
   "cell_type": "code",
   "execution_count": 31,
   "id": "098b0589-0248-41a2-9165-883176eba6a1",
   "metadata": {},
   "outputs": [
    {
     "name": "stderr",
     "output_type": "stream",
     "text": [
      "\u001b[1mRows: \u001b[22m\u001b[34m123\u001b[39m \u001b[1mColumns: \u001b[22m\u001b[34m14\u001b[39m\n",
      "\u001b[36m──\u001b[39m \u001b[1mColumn specification\u001b[22m \u001b[36m────────────────────────────────────────────────────────\u001b[39m\n",
      "\u001b[1mDelimiter:\u001b[22m \",\"\n",
      "\u001b[31mchr\u001b[39m (9): X4, X6, X7, X8, X9, X10, X11, X12, X13\n",
      "\u001b[32mdbl\u001b[39m (5): X1, X2, X3, X5, X14\n",
      "\n",
      "\u001b[36mℹ\u001b[39m Use `spec()` to retrieve the full column specification for this data.\n",
      "\u001b[36mℹ\u001b[39m Specify the column types or set `show_col_types = FALSE` to quiet this message.\n",
      "Warning message in mask$eval_all_mutate(quo):\n",
      "“NAs introduced by coercion”\n",
      "Warning message in mask$eval_all_mutate(quo):\n",
      "“NAs introduced by coercion”\n",
      "Warning message in mask$eval_all_mutate(quo):\n",
      "“NAs introduced by coercion”\n",
      "Warning message in mask$eval_all_mutate(quo):\n",
      "“NAs introduced by coercion”\n",
      "Warning message in mask$eval_all_mutate(quo):\n",
      "“NAs introduced by coercion”\n",
      "Warning message in mask$eval_all_mutate(quo):\n",
      "“NAs introduced by coercion”\n",
      "Warning message in mask$eval_all_mutate(quo):\n",
      "“NAs introduced by coercion”\n",
      "Warning message in mask$eval_all_mutate(quo):\n",
      "“NAs introduced by coercion”\n",
      "Warning message in mask$eval_all_mutate(quo):\n",
      "“NAs introduced by coercion”\n"
     ]
    },
    {
     "data": {
      "text/html": [
       "<table class=\"dataframe\">\n",
       "<caption>A tibble: 6 × 14</caption>\n",
       "<thead>\n",
       "\t<tr><th scope=col>Age</th><th scope=col>Sex</th><th scope=col>cp</th><th scope=col>trestbps</th><th scope=col>chol</th><th scope=col>fbs</th><th scope=col>restceg</th><th scope=col>thalach</th><th scope=col>exang</th><th scope=col>oldpeak</th><th scope=col>slope</th><th scope=col>ca</th><th scope=col>thal</th><th scope=col>heart_disease</th></tr>\n",
       "\t<tr><th scope=col>&lt;dbl&gt;</th><th scope=col>&lt;dbl&gt;</th><th scope=col>&lt;dbl&gt;</th><th scope=col>&lt;dbl&gt;</th><th scope=col>&lt;dbl&gt;</th><th scope=col>&lt;dbl&gt;</th><th scope=col>&lt;dbl&gt;</th><th scope=col>&lt;dbl&gt;</th><th scope=col>&lt;dbl&gt;</th><th scope=col>&lt;dbl&gt;</th><th scope=col>&lt;dbl&gt;</th><th scope=col>&lt;dbl&gt;</th><th scope=col>&lt;dbl&gt;</th><th scope=col>&lt;fct&gt;</th></tr>\n",
       "</thead>\n",
       "<tbody>\n",
       "\t<tr><td>32</td><td>1</td><td>1</td><td> 95</td><td>0</td><td>NA</td><td> 0</td><td>127</td><td>0</td><td>0.7</td><td> 1</td><td>NA</td><td>NA</td><td>True</td></tr>\n",
       "\t<tr><td>34</td><td>1</td><td>4</td><td>115</td><td>0</td><td>NA</td><td>NA</td><td>154</td><td>0</td><td>0.2</td><td> 1</td><td>NA</td><td>NA</td><td>True</td></tr>\n",
       "\t<tr><td>35</td><td>1</td><td>4</td><td> NA</td><td>0</td><td>NA</td><td> 0</td><td>130</td><td>1</td><td> NA</td><td>NA</td><td>NA</td><td> 7</td><td>True</td></tr>\n",
       "\t<tr><td>36</td><td>1</td><td>4</td><td>110</td><td>0</td><td>NA</td><td> 0</td><td>125</td><td>1</td><td>1.0</td><td> 2</td><td>NA</td><td> 6</td><td>True</td></tr>\n",
       "\t<tr><td>38</td><td>0</td><td>4</td><td>105</td><td>0</td><td>NA</td><td> 0</td><td>166</td><td>0</td><td>2.8</td><td> 1</td><td>NA</td><td>NA</td><td>True</td></tr>\n",
       "\t<tr><td>38</td><td>0</td><td>4</td><td>110</td><td>0</td><td> 0</td><td> 0</td><td>156</td><td>0</td><td>0.0</td><td> 2</td><td>NA</td><td> 3</td><td>True</td></tr>\n",
       "</tbody>\n",
       "</table>\n"
      ],
      "text/latex": [
       "A tibble: 6 × 14\n",
       "\\begin{tabular}{llllllllllllll}\n",
       " Age & Sex & cp & trestbps & chol & fbs & restceg & thalach & exang & oldpeak & slope & ca & thal & heart\\_disease\\\\\n",
       " <dbl> & <dbl> & <dbl> & <dbl> & <dbl> & <dbl> & <dbl> & <dbl> & <dbl> & <dbl> & <dbl> & <dbl> & <dbl> & <fct>\\\\\n",
       "\\hline\n",
       "\t 32 & 1 & 1 &  95 & 0 & NA &  0 & 127 & 0 & 0.7 &  1 & NA & NA & True\\\\\n",
       "\t 34 & 1 & 4 & 115 & 0 & NA & NA & 154 & 0 & 0.2 &  1 & NA & NA & True\\\\\n",
       "\t 35 & 1 & 4 &  NA & 0 & NA &  0 & 130 & 1 &  NA & NA & NA &  7 & True\\\\\n",
       "\t 36 & 1 & 4 & 110 & 0 & NA &  0 & 125 & 1 & 1.0 &  2 & NA &  6 & True\\\\\n",
       "\t 38 & 0 & 4 & 105 & 0 & NA &  0 & 166 & 0 & 2.8 &  1 & NA & NA & True\\\\\n",
       "\t 38 & 0 & 4 & 110 & 0 &  0 &  0 & 156 & 0 & 0.0 &  2 & NA &  3 & True\\\\\n",
       "\\end{tabular}\n"
      ],
      "text/markdown": [
       "\n",
       "A tibble: 6 × 14\n",
       "\n",
       "| Age &lt;dbl&gt; | Sex &lt;dbl&gt; | cp &lt;dbl&gt; | trestbps &lt;dbl&gt; | chol &lt;dbl&gt; | fbs &lt;dbl&gt; | restceg &lt;dbl&gt; | thalach &lt;dbl&gt; | exang &lt;dbl&gt; | oldpeak &lt;dbl&gt; | slope &lt;dbl&gt; | ca &lt;dbl&gt; | thal &lt;dbl&gt; | heart_disease &lt;fct&gt; |\n",
       "|---|---|---|---|---|---|---|---|---|---|---|---|---|---|\n",
       "| 32 | 1 | 1 |  95 | 0 | NA |  0 | 127 | 0 | 0.7 |  1 | NA | NA | True |\n",
       "| 34 | 1 | 4 | 115 | 0 | NA | NA | 154 | 0 | 0.2 |  1 | NA | NA | True |\n",
       "| 35 | 1 | 4 |  NA | 0 | NA |  0 | 130 | 1 |  NA | NA | NA |  7 | True |\n",
       "| 36 | 1 | 4 | 110 | 0 | NA |  0 | 125 | 1 | 1.0 |  2 | NA |  6 | True |\n",
       "| 38 | 0 | 4 | 105 | 0 | NA |  0 | 166 | 0 | 2.8 |  1 | NA | NA | True |\n",
       "| 38 | 0 | 4 | 110 | 0 |  0 |  0 | 156 | 0 | 0.0 |  2 | NA |  3 | True |\n",
       "\n"
      ],
      "text/plain": [
       "  Age Sex cp trestbps chol fbs restceg thalach exang oldpeak slope ca thal\n",
       "1 32  1   1   95      0    NA   0      127     0     0.7      1    NA NA  \n",
       "2 34  1   4  115      0    NA  NA      154     0     0.2      1    NA NA  \n",
       "3 35  1   4   NA      0    NA   0      130     1      NA     NA    NA  7  \n",
       "4 36  1   4  110      0    NA   0      125     1     1.0      2    NA  6  \n",
       "5 38  0   4  105      0    NA   0      166     0     2.8      1    NA NA  \n",
       "6 38  0   4  110      0     0   0      156     0     0.0      2    NA  3  \n",
       "  heart_disease\n",
       "1 True         \n",
       "2 True         \n",
       "3 True         \n",
       "4 True         \n",
       "5 True         \n",
       "6 True         "
      ]
     },
     "metadata": {},
     "output_type": "display_data"
    }
   ],
   "source": [
    "heart_data <- read_csv(\"https://archive.ics.uci.edu/ml/machine-learning-databases/heart-disease/processed.switzerland.data\", \n",
    "         col_names = FALSE)|>\n",
    "    rename(\"Age\" = X1,\n",
    "           \"Sex\" = X2,\n",
    "           \"cp\" = X3, \n",
    "           \"trestbps\" = X4,\n",
    "          \"chol\" = X5,\n",
    "          \"fbs\" = X6,\n",
    "          \"restceg\" = X7,\n",
    "          \"thalach\" = X8,\n",
    "          \"exang\" = X9,\n",
    "          \"oldpeak\" = X10,\n",
    "          \"slope\" = X11,\n",
    "          \"ca\" = X12,\n",
    "          \"thal\" = X13,\n",
    "          \"heart_disease\" = X14)|>\n",
    "    mutate(trestbps = as.numeric(trestbps),\n",
    "          fbs = as.numeric(fbs),\n",
    "          restceg = as.numeric(restceg),\n",
    "          thalach = as.numeric(thalach),\n",
    "          exang = as.numeric(exang),\n",
    "          oldpeak = as.numeric(oldpeak),\n",
    "          slope = as.numeric(slope),\n",
    "          ca = as.numeric(ca),\n",
    "          thal = as.numeric(thal),\n",
    "          heart_disease = ifelse(heart_disease == \"1\" | heart_disease == \"2\" | heart_disease == \"3\" | heart_disease == \"4\", \"True\", heart_disease),\n",
    "          heart_disease = ifelse(heart_disease == \"0\", \"False\", heart_disease),\n",
    "          heart_disease = as.factor(heart_disease))\n",
    "\n",
    "head(heart_data)"
   ]
  },
  {
   "cell_type": "code",
   "execution_count": 39,
   "id": "bf3214cf-eea9-48a8-9dbc-6b759bbbc221",
   "metadata": {},
   "outputs": [],
   "source": [
    "set.seed(9284)\n",
    "\n",
    "heart_split <- initial_split(heart_data, prop = 0.75, strata = heart_disease )\n",
    "heart_train <- training(heart_split)\n",
    "heart_test <- testing(heart_split)\n"
   ]
  },
  {
   "cell_type": "code",
   "execution_count": null,
   "id": "8d445fcc-9cc9-4b99-b5ce-da64ba2e3d0f",
   "metadata": {},
   "outputs": [],
   "source": [
    "#heart_table <- heart_training |>\n",
    "#    select(chol, trestbps, Age)|>\n",
    "#    summarize()"
   ]
  }
 ],
 "metadata": {
  "kernelspec": {
   "display_name": "R",
   "language": "R",
   "name": "ir"
  },
  "language_info": {
   "codemirror_mode": "r",
   "file_extension": ".r",
   "mimetype": "text/x-r-source",
   "name": "R",
   "pygments_lexer": "r",
   "version": "4.1.3"
  }
 },
 "nbformat": 4,
 "nbformat_minor": 5
}
